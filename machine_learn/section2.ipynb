{
 "cells": [
  {
   "cell_type": "markdown",
   "metadata": {},
   "source": [
    "※ 図に関しては，特段注釈が入れられていない場合，書籍「最短コースでわかる PyTorch ＆深層学習プログラミング」から参照しています．\n",
    "\n",
    "---\n",
    "\n",
    "# NumPy\n",
    "NumPyは、プログラミング言語Pythonにおいて数値計算を効率的に行うための拡張モジュールです．\n",
    "特に\n",
    "- 多次元配列(ベクトル，行列など)を効率的に扱える\n",
    "\n",
    "という理由で多くの場面で使われるパッケージです．"
   ]
  },
  {
   "cell_type": "markdown",
   "metadata": {},
   "source": [
    "---\n",
    "\n",
    "## ベクトル\n",
    "早速，NumPyでベクトルを定義してみましょう．  \n",
    "NumPyの配列は，\n",
    "- `numpy.array`\n",
    "\n",
    "で作成することができます．  \n",
    "\n",
    "※ 以降，変数の型が`numpy.ndarray`のものを「NumPy変数」と呼ぶこととします．"
   ]
  },
  {
   "cell_type": "code",
   "execution_count": null,
   "metadata": {},
   "outputs": [
    {
     "name": "stdout",
     "output_type": "stream",
     "text": [
      "[1 2 3 4 5]\n",
      "<class 'numpy.ndarray'>\n"
     ]
    }
   ],
   "source": [
    "import numpy as np # numpyをインポート（一般にnpと略される）．\n",
    "vector = np.array([1, 2, 3, 4, 5]) # 長さ5のベクトル\n",
    "print(vector) # ベクトルを表示\n",
    "print(type(vector)) # 変数の型を表示"
   ]
  },
  {
   "cell_type": "markdown",
   "metadata": {},
   "source": [
    "<br>\n",
    "\n",
    "ベクトル同士を足したい場合は，下記コードのように\n",
    "- NumPy変数として定義したベクトル同士を`+`で\n",
    "\n",
    "足すだけでOKです．  \n",
    "\n",
    "---\n",
    "この時，お互いのベクトルの長さが異なるとエラーが出るので気をつけましょう．  \n",
    "（気になる人は，長さが違うベクトル同士を足し合わせてみても良いと思います）\n",
    "\n",
    "---"
   ]
  },
  {
   "cell_type": "code",
   "execution_count": null,
   "metadata": {},
   "outputs": [
    {
     "name": "stdout",
     "output_type": "stream",
     "text": [
      "[ 5  6  7 11 12]\n"
     ]
    }
   ],
   "source": [
    "import numpy as np \n",
    "vector1 = np.array([1, 2, 3, 4, 5]) \n",
    "vector2 = np.array([4, 4, 4, 7, 7])\n",
    "\n",
    "sum_vector = vector1 + vector2 # ベクトル同士の足し算\n",
    "print(sum_vector) # 足した後のベクトルを表示"
   ]
  },
  {
   "cell_type": "markdown",
   "metadata": {},
   "source": [
    "<br>\n",
    "\n",
    "ベクトルの任意の要素を取り出したい時は，下記のように\n",
    "- インデックスを指定\n",
    "\n",
    "しましょう．\n",
    "\n",
    "---\n",
    "pythonでは，インデックスは \n",
    "\n",
    "「1番目，2番目，3番目，・・・」ではなく  \n",
    "「0番目，1番目，2番目，3番目，・・・」と\n",
    "- 「0」から開始する\n",
    "\n",
    "ことに注意しましょう\n",
    "\n",
    "---"
   ]
  },
  {
   "cell_type": "code",
   "execution_count": null,
   "metadata": {},
   "outputs": [
    {
     "name": "stdout",
     "output_type": "stream",
     "text": [
      "80\n",
      "23\n"
     ]
    }
   ],
   "source": [
    "import numpy as np \n",
    "vector = np.array([80, 23, 55, 9])\n",
    "num1 = vector[0] # vectorの0番目の要素を抽出\n",
    "num2 = vector[1] # vectorの1番目の要素を抽出\n",
    "print(num1)\n",
    "print(num2)"
   ]
  },
  {
   "cell_type": "markdown",
   "metadata": {},
   "source": [
    "<br>\n",
    "\n",
    "ベクトルの長さを調べたいときは，\n",
    "- `len`\n",
    "\n",
    "を使用しましょう．\n"
   ]
  },
  {
   "cell_type": "code",
   "execution_count": null,
   "metadata": {},
   "outputs": [
    {
     "name": "stdout",
     "output_type": "stream",
     "text": [
      "4\n"
     ]
    }
   ],
   "source": [
    "import numpy as np \n",
    "vector = np.array([80, 23, 55, 9])\n",
    "vector_length = len(vector) # ベクトルの長さを取得\n",
    "print(vector_length)"
   ]
  },
  {
   "cell_type": "markdown",
   "metadata": {},
   "source": [
    "<br>\n",
    "\n",
    "ベクトルを連結させたいときは\n",
    "- `append`\n",
    "\n",
    "を使用しましょう  \n",
    "\n",
    "---\n",
    "※ 注意点：下記の場合，`vector1`の値が書き変わるわけではない（連結した結果を`vector2`に代入しているだけ）ので注意\n",
    "```\n",
    "vector1 = np.array([80, 23, 55, 9])\n",
    "vector2 = np.append(vector1, 79)\n",
    "```\n",
    "\n",
    "---"
   ]
  },
  {
   "cell_type": "code",
   "execution_count": null,
   "metadata": {},
   "outputs": [
    {
     "name": "stdout",
     "output_type": "stream",
     "text": [
      "[80 23 55  9 79]\n",
      "[80 23 55  9 48 32 43 12]\n",
      "[80 23 55  9]\n"
     ]
    }
   ],
   "source": [
    "import numpy as np\n",
    "vector1 = np.array([80, 23, 55, 9])\n",
    "vector2 = np.append(vector1, 79) # vector1に任意のスカラーを連結\n",
    "print(vector2)\n",
    "\n",
    "vector3 = np.array([48, 32, 43, 12])\n",
    "vector4 = np.append(vector1, vector3) # vector1の後ろにvector3を連結\n",
    "print(vector4)\n",
    "\n",
    "print(vector1) # vector1の値は書き変わっていない"
   ]
  },
  {
   "cell_type": "markdown",
   "metadata": {},
   "source": [
    "ここまでで，NumPyが割と直感的に使えることがわかったと思います．  \n",
    "次は，行列について扱います．"
   ]
  },
  {
   "cell_type": "markdown",
   "metadata": {},
   "source": [
    "---\n",
    "\n",
    "## 行列\n",
    "基本的な操作は，ベクトルの時と同じです．  "
   ]
  },
  {
   "cell_type": "markdown",
   "metadata": {},
   "source": [
    "### 行列の定義\n",
    "ベクトルと同じように\n",
    "- `numpy.array`\n",
    "\n",
    "で定義しましょう．（3次元以上でも同じです）"
   ]
  },
  {
   "cell_type": "code",
   "execution_count": null,
   "metadata": {},
   "outputs": [
    {
     "name": "stdout",
     "output_type": "stream",
     "text": [
      "[[1 2 3]\n",
      " [4 5 6]]\n"
     ]
    }
   ],
   "source": [
    "import numpy as np\n",
    "\n",
    "array = np.array([[1, 2, 3], \n",
    "                  [4, 5, 6]])\n",
    "print(array)\n"
   ]
  },
  {
   "cell_type": "markdown",
   "metadata": {},
   "source": [
    "<br>\n",
    "\n",
    "行列の要素を抽出したい場合は，下記コードのように\n",
    "- 数学の行列と同じような扱い方\n",
    "\n",
    "ができます"
   ]
  },
  {
   "cell_type": "code",
   "execution_count": null,
   "metadata": {},
   "outputs": [
    {
     "name": "stdout",
     "output_type": "stream",
     "text": [
      "3\n"
     ]
    }
   ],
   "source": [
    "import numpy as np\n",
    "\n",
    "array = np.array([[1, 2, 3], \n",
    "                  [4, 5, 6]])\n",
    "\n",
    "num = array[0][2] # 0行2列目の要素を抽出\n",
    "print(num) "
   ]
  },
  {
   "cell_type": "markdown",
   "metadata": {},
   "source": [
    "<br>\n",
    "\n",
    "機械学習の場合，\n",
    "- 行列を画像として扱う\n",
    "\n",
    "ことが多いと思うので，ここからは画像を例にして進めていきます．"
   ]
  },
  {
   "cell_type": "markdown",
   "metadata": {},
   "source": [
    "### ヒートマップ\n",
    "小さい行列を画像として見立てて，ヒートマップを確認してみましょう．  \n",
    "\n",
    "下記コードを実行すると\n",
    "- 画素値が高い箇所は白に近く，画素値が低い箇所は黒に近くなっている\n",
    "\n",
    "ことが分かると思います．（画像の各画素の画素値は「0〜255の整数値」なので，下記コードでもそのように設定しています．）\n",
    "\n",
    "---\n",
    "**重要**  \n",
    "---\n",
    "ここで注意して欲しいのが，画像の画素を指定したいときに，\n",
    "- `array[x][y]`\n",
    "\n",
    "の順番で指定したくなりますが，これだと欲しい画素値が取得できません．  \n",
    "\n",
    "なぜなら，配列は`array[行][列]`の順番になるので，これをx,yに置き換えると\n",
    "- `array[y][x]`\n",
    "\n",
    "となるためです．\n",
    "\n",
    "例えば，下記コードで生成されるヒートマップの右上の画素の画素値を取得したい場合は\n",
    "- `array[0][2]`\n",
    "\n",
    "とする必要があります．\n",
    "\n",
    "<br>\n",
    "\n",
    "もう一つの注意点として，原点は画像の左上になるため，  \n",
    "- y軸は，上方向が-, 下方向が+\n",
    "\n",
    "となり，一般的な数学で使われる座標系に対して，y軸が逆方向を向いていることに注意してください．\n",
    "\n",
    "---\n"
   ]
  },
  {
   "cell_type": "code",
   "execution_count": null,
   "metadata": {},
   "outputs": [
    {
     "name": "stdout",
     "output_type": "stream",
     "text": [
      "255\n"
     ]
    },
    {
     "data": {
      "image/png": "[encoded data removed]",
      "text/plain": [
       "<Figure size 432x288 with 2 Axes>"
      ]
     },
     "metadata": {},
     "output_type": "display_data"
    }
   ],
   "source": [
    "%matplotlib inline\n",
    "import numpy as np\n",
    "\n",
    "# 描画に必要なモジュールをインポート\n",
    "import seaborn as sns\n",
    "import pandas as pd\n",
    "import matplotlib as mpl\n",
    "import matplotlib.pyplot as plt\n",
    "\n",
    "array = np.array([[0, 100, 255], \n",
    "                  [0,   0,   0]])\n",
    "sns.heatmap(array, cmap=\"gray\", vmin=0, vmax=255) # 配列をヒートマップとして表示\n",
    "\n",
    "print(array[0][2]) # 右上の画素を取得(array[y][x]の順番)"
   ]
  },
  {
   "cell_type": "markdown",
   "metadata": {},
   "source": [
    "ここから，本格的な画像を扱う場合「OpenCV」と呼ばれるライブラリの知識が必要になってきますが，機械学習に関する説明を優先するため，ここでは割愛します．"
   ]
  },
  {
   "cell_type": "markdown",
   "metadata": {},
   "source": [
    "<br>\n",
    "\n",
    "以上で，NumPyの基本的な使い方の説明は終わりです．  \n",
    "3次元以上に関しても，同じような方法で扱うことができます．"
   ]
  }
 ],
 "metadata": {
  "kernelspec": {
   "display_name": "Python 3.9.6 64-bit",
   "language": "python",
   "name": "python3"
  },
  "language_info": {
   "name": "python",
   "version": "3.9.6"
  },
  "orig_nbformat": 4,
  "vscode": {
   "interpreter": {
    "hash": "31f2aee4e71d21fbe5cf8b01ff0e069b9275f58929596ceb00d14d90e3e16cd6"
   }
  }
 },
 "nbformat": 4,
 "nbformat_minor": 2
}
