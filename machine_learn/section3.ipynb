{
 "cells": [
  {
   "cell_type": "markdown",
   "metadata": {},
   "source": [
    "---\n",
    "\n",
    "# Tensor\n",
    "すごく簡単に言えばTensorは「機械学習用のNumPy」のようなものになります．  \n",
    "\n",
    "特に，NumPyと最も異なる点として，Tensorは\n",
    "- GPUを使用して演算\n",
    "\n",
    "をすることが可能です"
   ]
  },
  {
   "cell_type": "markdown",
   "metadata": {},
   "source": [
    "---\n",
    "\n",
    "## 配列\n",
    "Tensorでの配列の生成方法はNumPyと非常に似ていますが，関数名は異なり\n",
    "- `torch.Tensor`\n",
    "\n",
    "により配列を生成します．  \n",
    "※ 以降，変数の型が`torch.Tensor`のものを「Tensor変数」と呼ぶこととします．"
   ]
  },
  {
   "cell_type": "code",
   "execution_count": null,
   "metadata": {},
   "outputs": [
    {
     "name": "stdout",
     "output_type": "stream",
     "text": [
      "tensor([1., 2.])\n",
      "tensor([[1., 2.],\n",
      "        [3., 4.]])\n",
      "<class 'torch.Tensor'>\n"
     ]
    }
   ],
   "source": [
    "import torch \n",
    "vector = torch.Tensor([1, 2]) # 1次元配列（=ベクトル）の生成\n",
    "array = torch.Tensor([[1, 2],\n",
    "                      [3, 4]]) # 2次元配列（=行列）の生成\n",
    "print(vector)\n",
    "print(array)\n",
    "\n",
    "print(type(vector))"
   ]
  },
  {
   "cell_type": "markdown",
   "metadata": {},
   "source": [
    "---\n",
    "\n",
    "## TensorとNumpyの相互変換\n",
    "冒頭でも記述したとおり，NumPyとTensorには互換性があります．ここでは，Numpy変数 → Tensor変数，およびTensor変数 → NumPy変数への変換方法を紹介します（いくつか方法がありますが，その中の一つを紹介します）．  \n",
    "例えば，「NumPy変数でデータの前処理」→「Tensor変数に変換してGPUに送る」といった時などに使用します．"
   ]
  },
  {
   "cell_type": "markdown",
   "metadata": {},
   "source": [
    "最初に，Numpy変数 → Tensor変数への変換は\n",
    "- `torch.tensor(NumPy変数)`\n",
    "\n",
    "になります．\n",
    "\n",
    "<br>\n",
    "\n",
    "Tensor変数に変換するだけだったらこれだけでもOKなのですが，\n",
    "- `torch.tensor(NumPy変数).float()`\n",
    "\n",
    "と後ろに`float()`をつけることで各要素をfloat32に変換します．これは，以降で説明する機械学習のライブラリを使うときに\n",
    "- Tensorの各要素の型がfloat32でないとエラーが発生\n",
    "\n",
    "する時があるため，基本的にNumpy変数 → Tensor変数に変換するときは，後ろに`float()`をつけましょう（一部float32以外の型が求められる時もあります）．"
   ]
  },
  {
   "cell_type": "code",
   "execution_count": null,
   "metadata": {},
   "outputs": [
    {
     "name": "stdout",
     "output_type": "stream",
     "text": [
      "<class 'numpy.ndarray'>\n",
      "<class 'torch.Tensor'>\n",
      "float64\n",
      "torch.float32\n"
     ]
    }
   ],
   "source": [
    "import numpy as np\n",
    "import torch\n",
    "\n",
    "np_array = np.array([1.0, 2.0, 3.0, 4.0, 5.0])\n",
    "np_array_to_tensor = torch.tensor(np_array).float()\n",
    "print(type(np_array))\n",
    "print(type(np_array_to_tensor)) # torch.Tensor に変換されていることが分かる\n",
    "\n",
    "print(np_array.dtype)\n",
    "print(np_array_to_tensor.dtype) # float32に変換されていることが分かる"
   ]
  },
  {
   "cell_type": "markdown",
   "metadata": {},
   "source": [
    "<br>\n",
    "\n",
    "次に，Tensor変数 → NumPy変数への変換は\n",
    "- `Tensor変数.numpy()`\n",
    "\n",
    "になります．"
   ]
  },
  {
   "cell_type": "code",
   "execution_count": null,
   "metadata": {},
   "outputs": [
    {
     "name": "stdout",
     "output_type": "stream",
     "text": [
      "<class 'torch.Tensor'>\n",
      "<class 'numpy.ndarray'>\n",
      "[1. 2.]\n"
     ]
    }
   ],
   "source": [
    "import torch \n",
    "tensor_array = torch.Tensor([1.0, 2.0]) \n",
    "tensor_array_to_numpy = tensor_array.numpy()\n",
    "\n",
    "print(type(tensor_array))\n",
    "print(type(tensor_array_to_numpy)) # numpu.ndarrayに変換されていることが分かる\n",
    "print(tensor_array_to_numpy)\n"
   ]
  },
  {
   "cell_type": "markdown",
   "metadata": {},
   "source": [
    "ここまでで，いったんTensorの話を終了します．  \n",
    "\n",
    "以降は，機械学習のライブラリであるPyTorchの話に移ります．しかし，今までのコードを見ていただければ分かるとおり，TensorもPyTorchの機能の一つ（`import torch`でPyTorchをインポートしています）なので，以降はPyTorchを使った機械学習を説明していく中で，その都度Tensorの機能についても説明していきます．"
   ]
  }
 ],
 "metadata": {
  "kernelspec": {
   "display_name": "Python 3.9.6 64-bit",
   "language": "python",
   "name": "python3"
  },
  "language_info": {
   "name": "python",
   "version": "3.9.6"
  },
  "orig_nbformat": 4,
  "vscode": {
   "interpreter": {
    "hash": "31f2aee4e71d21fbe5cf8b01ff0e069b9275f58929596ceb00d14d90e3e16cd6"
   }
  }
 },
 "nbformat": 4,
 "nbformat_minor": 2
}
