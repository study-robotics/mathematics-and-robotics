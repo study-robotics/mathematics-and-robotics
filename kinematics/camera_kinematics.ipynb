{
 "cells": [
  {
   "cell_type": "code",
   "execution_count": 136,
   "metadata": {},
   "outputs": [],
   "source": [
    "import numpy as np\n",
    "import math\n",
    "from sympy.geometry import *\n",
    "import matplotlib.pyplot as plt\n",
    "import matplotlib.patches as pat\n",
    "import matplotlib.animation as animation"
   ]
  },
  {
   "attachments": {},
   "cell_type": "markdown",
   "metadata": {},
   "source": [
    "# リンクのパラメータ設定"
   ]
  },
  {
   "cell_type": "code",
   "execution_count": 137,
   "metadata": {},
   "outputs": [],
   "source": [
    "link1_length = 4.0\n",
    "theta1 = 80 # 駆動範囲：-90〜90度\n",
    "theta1 = np.radians(theta1)\n",
    "link2_length = 2.0\n",
    "theta2 = -100 # 駆動範囲：-160〜160度\n",
    "theta2 = np.radians(theta2)"
   ]
  },
  {
   "attachments": {},
   "cell_type": "markdown",
   "metadata": {},
   "source": [
    "# 同時変換行列"
   ]
  },
  {
   "cell_type": "code",
   "execution_count": 138,
   "metadata": {},
   "outputs": [],
   "source": [
    "# 同時変換行列\n",
    "def H_2d(x, y, theta):     \n",
    "    return np.array([[np.cos(theta), -np.sin(theta), x],\n",
    "                     [np.sin(theta),  np.cos(theta), y],\n",
    "                     [            0,              0, 1]])\n",
    "\n",
    "# link1 -> link2 の同時変換行列\n",
    "link_1to2 = H_2d(link1_length*np.cos(theta1), link1_length*np.sin(theta1), theta1)\n",
    "# link2 -> end effector の同時変換行列\n",
    "link_2toe = H_2d(link2_length*np.cos(theta2), link2_length*np.sin(theta2), theta2)\n",
    "# link1 -> end effector の同時変換行列\n",
    "link_1toe = link_1to2@link_2toe"
   ]
  },
  {
   "attachments": {},
   "cell_type": "markdown",
   "metadata": {},
   "source": [
    "# 各リンクとエンドエフェクタの座標"
   ]
  },
  {
   "cell_type": "code",
   "execution_count": 139,
   "metadata": {},
   "outputs": [
    {
     "name": "stdout",
     "output_type": "stream",
     "text": [
      "ロボットアームの根元 -> 手先までの距離(x, y) 2.573977952239538 3.2551907253974948\n"
     ]
    }
   ],
   "source": [
    "# link2の原点座標\n",
    "x2, y2 = link_1to2[0][2], link_1to2[1][2]\n",
    "# end effectorの原点座標\n",
    "xe, ye = link_1toe[0][2], link_1toe[1][2]\n",
    "\n",
    "# --------------------------------\n",
    "# 三角関数による\n",
    "# to_e = np.array([[link2_length],\n",
    "#                  [0.0],\n",
    "#                  [1]])\n",
    "# x2, y2 = link1_length*np.cos(theta1),  link1_length*np.sin(theta1)\n",
    "# xe, ye = x2 + link2_length*np.cos(theta1+theta2), y2 + link2_length*np.sin(theta1+theta2)\n",
    "\n",
    "# --------------------------------------------------\n",
    "print(\"ロボットアームの根元 -> 手先までの距離(x, y)\", xe, ye)"
   ]
  },
  {
   "attachments": {},
   "cell_type": "markdown",
   "metadata": {},
   "source": [
    "# 障害物のパラメータ設定"
   ]
  },
  {
   "cell_type": "code",
   "execution_count": 140,
   "metadata": {},
   "outputs": [],
   "source": [
    "# 矩形の障害物\n",
    "obs_x = 3.0\n",
    "obs_y = 2.0\n",
    "obs_w = 1.0\n",
    "obs_h = 1.0"
   ]
  },
  {
   "attachments": {},
   "cell_type": "markdown",
   "metadata": {},
   "source": [
    "# カメラによる距離測定"
   ]
  },
  {
   "cell_type": "code",
   "execution_count": 141,
   "metadata": {},
   "outputs": [
    {
     "name": "stdout",
     "output_type": "stream",
     "text": [
      "「リンク座標系の原点」から「レーザーの先端」までの距離 3.2787474178289693 2.998675617903243\n"
     ]
    }
   ],
   "source": [
    "# カメラからの距離を測定 ---------------------------------\n",
    "lidar_length = 5.0 # レーザーの最大距離\n",
    "xac, yac = xe, ye # ロボットアーム座標系から見たカメラ座標系の原点（今回は，ロボットアームの手先=カメラ座標原点としている）\n",
    "lidar_resolution = 0.01 # lidarの分解能\n",
    "xce, yce = xe, ye # レーザーの先端座標（初期時点では，原点と一致．以下のfor文内で更新）\n",
    "lidar_to_obs = 0.0 # カメラ座標原点->障害物までの距離\n",
    "\n",
    "# レーザーが障害物（矩形）と衝突しているかどうか判定\n",
    "# 実空間では，距離センサから得られる値をそのまま使用すればよい（シミュレータの時にだけ必要な処理）\n",
    "# （実空間で使用する場合の例）距離センサの値がOO以下なら，その座標まで手先を持っていく\n",
    "for l in range(int(lidar_length*(1/lidar_resolution))):\n",
    "    lidar_point = l*lidar_resolution # lidar_lengthにたどり着くまで(lidar_resolution/lidar_length)ずつレーザーを伸ばしていく\n",
    "    xce, yce = xac + lidar_point*np.cos(theta1+theta2), yac + lidar_point*np.sin(theta1+theta2)\n",
    "    # 衝突判定には「点（レーザーの1点）」と「矩形（障害物）」間の衝突判定を使用\n",
    "    if xce >= obs_x and xce <= (obs_x+obs_w) and yce >= obs_y and yce <= (obs_y+obs_h):\n",
    "        lidar_to_obs = lidar_point\n",
    "        break # 衝突\n",
    "    else:\n",
    "        pass # 非衝突  \n",
    "#print(\"arm to obs (true)\", xce, yce)\n",
    "\n",
    "# 「カメラ座標系原点->障害物」までのx方向の距離\n",
    "# （今回は「手先座標原点=カメラ座標系原点」なので，「カメラ座標系原点->障害物までの距離」と等しい）\n",
    "# （「手先座標原点≠カメラ座標系原点」の場合は，「手先の原点->カメラの原点」の座標変換も必要であることに注意）\n",
    "xl = lidar_to_obs \n",
    "yl = 0.0 # カメラ座標系原点->障害物までのy方向の距離（今回は0.0）\n",
    "\n",
    "# 「カメラ座標系 -> ロボットアーム座標系（原点）」に変更\n",
    "link_1_to_lidar = link_1toe # 今回の場合は，手先の原点と，lidarの原点が同じと仮定\n",
    "lidar_to_obs = np.array([[xl],\n",
    "                         [yl],\n",
    "                         [1]])\n",
    "link_to_obs = link_1_to_lidar@lidar_to_obs\n",
    "print(\"「リンク座標系の原点」から「レーザーの先端」までの距離\", link_to_obs[0][0], link_to_obs[1][0])\n"
   ]
  },
  {
   "attachments": {},
   "cell_type": "markdown",
   "metadata": {},
   "source": [
    "# 描画"
   ]
  },
  {
   "cell_type": "code",
   "execution_count": 142,
   "metadata": {},
   "outputs": [
    {
     "data": {
      "image/png": "[encoded data removed]",
      "text/plain": [
       "<Figure size 900x300 with 1 Axes>"
      ]
     },
     "metadata": {},
     "output_type": "display_data"
    }
   ],
   "source": [
    "# 描画 -------------------------------------------\n",
    "fig = plt.figure(figsize=(9,3))\n",
    "ax1 = fig.add_subplot(1, 1, 1)\n",
    "ax1.set_aspect(\"equal\")#画像の比率を同じにする\n",
    "x0, y0 = 0, 0\n",
    "plt.axes(ax1)\n",
    "\n",
    "\n",
    "\n",
    "# 描画範囲：リンクを伸ばし切った時の長さを描画範囲に設定\n",
    "#ax1.set_xlim(-(link1_length+link2_length), link1_length+link2_length)\n",
    "# 描画範囲：y=0未満は描画しない\n",
    "#ax1.set_ylim(0.0, link1_length+link2_length)\n",
    "\n",
    "ax1.set_xlim(-(link1_length+link2_length), obs_x+obs_w+1.0)\n",
    "ax1.set_ylim(0.0, link1_length+link2_length)\n",
    "\n",
    "\n",
    "s0 = Segment(Point(0   , 0)   ,Point(x2, y2)) # リンク1\n",
    "s1 = Segment(Point(x2, y2),Point(xe, ye)) # リンク2 \n",
    "s2 = Segment(Point(xe, ye),Point(xce, yce)) # カメラ光\n",
    "segments = [s0, s1, s2]\n",
    "\n",
    "# 各リンクを描画\n",
    "for i,s in enumerate(segments) :\n",
    "    if i+1 == len(segments):\n",
    "        break # レーザーはここでは描画しない\n",
    "    ax1.plot([s.p1.x, s.p2.x], [s.p1.y, s.p2.y], lw=5)\n",
    "\n",
    "#レーザーを描画\n",
    "ax1.plot([xac, xce], [yac, yce], color=\"red\", lw=0.5)\n",
    "\n",
    "# 障害物（矩形）を描画\n",
    "r = pat.Rectangle(xy=(obs_x, obs_y), width=obs_w, height=obs_h, ec='#000000', fill=True)\n",
    "ax1.add_patch(r)\n",
    "\n",
    "plt.show()\n",
    "\n"
   ]
  },
  {
   "attachments": {},
   "cell_type": "markdown",
   "metadata": {},
   "source": [
    "# レーザーの情報をもとに逆運動学により障害物に近づく"
   ]
  },
  {
   "cell_type": "code",
   "execution_count": 143,
   "metadata": {},
   "outputs": [
    {
     "name": "stdout",
     "output_type": "stream",
     "text": [
      "number 1 x 2.6442834268856323 y 3.2288411076380115\n",
      "number 2 x 2.707588185962751 y 3.205261215781433\n",
      "number 3 x 2.764586823538969 y 3.1841481720194973\n",
      "number 4 x 2.815905656702681 y 3.16523428139737\n",
      "number 5 x 2.862109221928521 y 3.148282632979172\n",
      "number 6 x 2.9037062381025276 y 3.133083278499427\n",
      "number 7 x 2.9411550441192706 y 3.1194499188232108\n",
      "number 8 x 2.9748685363816962 y 3.1072170316523726\n",
      "number 9 x 3.005218639950575 y 3.0962373799010834\n",
      "number 10 x 3.0325403502570785 y 3.086379847213708\n",
      "number 11 x 3.057135382486605 y 3.0775275541852642\n",
      "number 12 x 3.0792754643275613 y 3.0695762154434965\n",
      "number 13 x 3.099205305560435 y 3.06243270363538\n",
      "number 14 x 3.1171452754072866 y 3.056013791472375\n",
      "number 15 x 3.1332938159346213 y 3.0502450473587155\n",
      "number 16 x 3.147829617247937 y 3.045059863826896\n",
      "number 17 x 3.160913577807576 y 3.0403986011197044\n",
      "number 18 x 3.1726905709654902 y 3.0362078308740457\n",
      "number 19 x 3.1832910367803926 y 3.032439667056804\n",
      "number 20 x 3.1928324163111057 y 3.029051173146118\n",
      "number 21 x 3.20142044390479 y 3.026003836101708\n",
      "number 22 x 3.2091503114753115 y 3.0232630989748213\n",
      "number 23 x 3.216107717393479 y 3.0207979451132947\n",
      "number 24 x 3.2223698113717125 y 3.018580527854252\n",
      "number 25 x 3.228006045608009 y 3.0165858403941597\n",
      "number 26 x 3.2330789414460206 y 3.0147914212065245\n",
      "number 27 x 3.237644779898841 y 3.0131770909604\n",
      "number 28 x 3.241754223563926 y 3.011724717393773\n",
      "number 29 x 3.2454528767167083 y 3.0104180050277485\n",
      "number 30 x 3.2487817897029307 y 3.0092423069808834\n",
      "number 31 x 3.251777913147464 y 3.0081844564669677\n",
      "number 32 x 3.254474506953993 y 3.007232615841307\n",
      "number 33 x 3.256901508579693 y 3.006376141306309\n",
      "number 34 x 3.2590858646267113 y 3.005605461602085\n",
      "number 35 x 3.2610518293932618 y 3.0049119691961113\n",
      "number 36 x 3.26282123366721 y 3.004287922651434\n",
      "number 37 x 3.2644137267204023 y 3.0037263589985814\n",
      "number 38 x 3.265846994169196 y 3.003221015064741\n",
      "number 39 x 3.267136954102685 y 3.002766256827289\n",
      "number 40 x 3.268297933642039 y 3.0023570159591615\n",
      "number 41 x 3.2693428278798127 y 3.0019887328225785\n",
      "final_x 3.2693428278798127 final_y 3.0019887328225785\n",
      "number of loop 41\n",
      "final_theta1,final_theta2 69.33599689095557 -91.07242876874766\n"
     ]
    }
   ],
   "source": [
    "import inverse_kinematics\n",
    "final_theta1, final_theta2 = inverse_kinematics.Inverse_kinematics(xe, ye, link_to_obs[0][0], link_to_obs[1][0], link1_length, link2_length, theta1, theta2)\n",
    "deg1, deg2 = np.rad2deg(final_theta1), np.rad2deg(final_theta2)\n",
    "print(\"final_theta1,final_theta2\",deg1, deg2)\n",
    "\n",
    "# link1 -> link2 の同時変換行列\n",
    "link_1to2 = H_2d(link1_length*np.cos(final_theta1), link1_length*np.sin(final_theta1), final_theta1)\n",
    "# link2 -> end effector の同時変換行列\n",
    "link_2toe = H_2d(link2_length*np.cos(final_theta2), link2_length*np.sin(final_theta2), final_theta2)\n",
    "# link1 -> end effector の同時変換行列\n",
    "link_1toe = link_1to2@link_2toe\n",
    "\n",
    "# link2の原点座標\n",
    "x2, y2 = link_1to2[0][2], link_1to2[1][2]\n",
    "# end effectorの原点座標\n",
    "xe, ye = link_1toe[0][2], link_1toe[1][2]"
   ]
  },
  {
   "attachments": {},
   "cell_type": "markdown",
   "metadata": {},
   "source": [
    "# 描画"
   ]
  },
  {
   "cell_type": "code",
   "execution_count": 144,
   "metadata": {},
   "outputs": [
    {
     "data": {
      "image/png": "[encoded data removed]",
      "text/plain": [
       "<Figure size 900x300 with 1 Axes>"
      ]
     },
     "metadata": {},
     "output_type": "display_data"
    }
   ],
   "source": [
    "fig = plt.figure(figsize=(9,3))\n",
    "ax1 = fig.add_subplot(1, 1, 1)\n",
    "ax1.set_aspect(\"equal\")#画像の比率を同じにする\n",
    "x0, y0 = 0, 0\n",
    "plt.axes(ax1)\n",
    "\n",
    "ax1.set_xlim(-(link1_length+link2_length), obs_x+obs_w+1.0)\n",
    "ax1.set_ylim(0.0, link1_length+link2_length)\n",
    "\n",
    "\n",
    "s0 = Segment(Point(0   , 0)   ,Point(x2, y2)) # リンク1\n",
    "s1 = Segment(Point(x2, y2),Point(xe, ye)) # リンク2 \n",
    "segments = [s0, s1]\n",
    "\n",
    "# 各リンクを描画\n",
    "for i,s in enumerate(segments) :\n",
    "    ax1.plot([s.p1.x, s.p2.x], [s.p1.y, s.p2.y], lw=5)\n",
    "\n",
    "# 障害物（矩形）を描画\n",
    "r = pat.Rectangle(xy=(obs_x, obs_y), width=obs_w, height=obs_h, ec='#000000', fill=True)\n",
    "ax1.add_patch(r)\n",
    "\n",
    "plt.show()\n"
   ]
  },
  {
   "cell_type": "code",
   "execution_count": null,
   "metadata": {},
   "outputs": [],
   "source": []
  }
 ],
 "metadata": {
  "kernelspec": {
   "display_name": "Python 3",
   "language": "python",
   "name": "python3"
  },
  "language_info": {
   "codemirror_mode": {
    "name": "ipython",
    "version": 3
   },
   "file_extension": ".py",
   "mimetype": "text/x-python",
   "name": "python",
   "nbconvert_exporter": "python",
   "pygments_lexer": "ipython3",
   "version": "3.9.16"
  },
  "orig_nbformat": 4
 },
 "nbformat": 4,
 "nbformat_minor": 2
}
