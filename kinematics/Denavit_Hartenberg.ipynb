import numpy as np
import matplotlib.pyplot as plt
from mpl_toolkits.mplot3d import Axes3D
from ipywidgets import interact, FloatSlider, IntSlider

# x軸周りに回転する同時変換行列
def Hx(theta):
    return np.array([[1,             0,              0, 0],
                     [0, np.cos(theta), -np.sin(theta), 0],
                     [0, np.sin(theta),  np.cos(theta), 0],
                     [0,             0,              0, 1]])

# y軸周りに回転する同時変換行列
def Hy(theta):
    return np.array([[ np.cos(theta), 0,  np.sin(theta), 0],
                     [             0, 1,              0, 0],
                     [-np.sin(theta), 0,  np.cos(theta), 0],
                     [0,              0,              0, 1]])

# z軸周りに回転する同時変換行列
def Hz(theta):
    return np.array([[np.cos(theta),  -np.sin(theta), 0, 0],
                     [np.sin(theta),   np.cos(theta), 0, 0],
                     [            0,               0, 1, 0],
                     [            0,               0, 0, 1]])

# (x,y,z)方向に並進移動する同時変換行列
def Hp(x, y, z):
    return np.array([[1, 0, 0, x],
                     [0, 1, 0, y],
                     [0, 0, 1, z],
                     [0, 0, 0, 1]])


def Hdh(theta, d, alpha, a):
    return Hz(theta)@Hp(0, 0, d)@Hx(alpha)@Hp(a, 0, 0)

def draw_link_coordinate(ax, Hdh):   
    """
    Hdh : 絶対座標系原点から，N番目のリンク座標原点までの同時変換行列(4×4)
    """
    # n番目のlinkの座標系のx方向の単位ベクトル
    link_x = Hdh@np.array([[1],
                           [0],
                           [0],
                           [1]])
    print(link_x[0][0]**2+link_x[1][0]**2+link_x[2][0]**2)

    # n番目のlinkの座標系のy方向の単位ベクトル
    link_y = Hdh@np.array([[0],
                           [1],
                           [0],
                           [1]])

    # n番目のlinkの座標系のz方向の単位ベクトル
    link_z = Hdh@np.array([[0],
                           [0],
                           [1],
                           [1]])                        

    # 絶対座標系を原点(0,0,0)とした時の，n番目のlinkの原点座標
    x = Hdh[0][3]; y = Hdh[1][3]; z = Hdh[2][3]
    
    # n番目のlinkの座標系をplot (x方向)
    ax.plot([x, link_x[0][0]], [y, link_x[1][0]], [z, link_x[2][0]], "o-", color="red", ms=4, mew=0.5) 
    # n番目のlinkの座標系をplot (y方向)
    ax.plot([x, link_y[0][0]], [y, link_y[1][0]], [z, link_y[2][0]], "o-", color="green", ms=4, mew=0.5) 
    # n番目のlinkの座標系をplot (z方向)
    ax.plot([x, link_z[0][0]], [y, link_z[1][0]], [z, link_z[2][0]], "o-", color="blue", ms=4, mew=0.5)

def f(val1, val2, val3, val4, val5, val6):
    fig = plt.figure()
    ax = fig.add_subplot(111, projection='3d')
    theta1 = np.radians(val1); d1 = 0; alpha1 = -np.pi/2; a1 = 0
    Hdh01 = Hdh(theta1, d1, alpha1, a1) # DH法による同時変換行列 0->1

    theta2 = np.radians(val2); d2 = 0; alpha2 =0; a2 = 4
    Hdh12 = Hdh(theta2, d2, alpha2, a2) # DH法による同時変換行列 1->2

    theta3 = np.radians(val3); d3 = 0; alpha3 = np.pi/2; a3 = 0
    Hdh23 = Hdh(theta3, d3, alpha3, a3) # DH法による同時変換行列 2->3

    theta4 = np.radians(val4); d4 = 4; alpha4 = -np.pi/2; a4 = 0
    Hdh34 = Hdh(theta4, d4, alpha4, a4) # DH法による同時変換行列 3->4

    theta5 = np.radians(val5); d5 = 0; alpha5 = np.pi/2; a5 = 0
    Hdh45 = Hdh(theta5, d5, alpha5, a5) # DH法による同時変換行列 4->5

    theta6 = np.radians(val6); d6 = 2; alpha6 = 0; a6 = 0
    Hdh56 = Hdh(theta6, d6, alpha6, a6) # DH法による同時変換行列 5->6    
    
    # 絶対座標系からn番目のlinkまでの同時変換行列を定義 -------------------------------
    Hdh012     = Hdh01     @ Hdh12 # 絶対座標系 -> link2座標系 (= 絶対座標系 -> link1座標系 -> link2座標系)
    Hdh0123    = Hdh012    @ Hdh23 # 絶対座標系 -> link3座標系 (= 絶対座標系 -> link1座標系 -> link2座標系 -> link3座標系)
    Hdh01234   = Hdh0123   @ Hdh34 # 絶対座標系 -> link4座標系 (= 絶対座標系 -> link1座標系 -> link2座標系 -> link3座標系 -> link4座標系)
    Hdh012345  = Hdh01234  @ Hdh45 # 絶対座標系 -> link5座標系 (= 絶対座標系 -> link1座標系 -> link2座標系 -> link3座標系 -> link4座標系 -> リンク5座標系)
    Hdh0123456 = Hdh012345 @ Hdh56 # 絶対座標系 -> link6座標系 (= 絶対座標系 -> link1座標系 -> link2座標系 -> link3座標系 -> link4座標系 -> リンク5座標系 -> リンク6座標系)
    # --------------------------------------------------------------------------
    
    # 各linkの原点座標 -----------------------------------------------------------
    o0 = [             0.0,              0.0,              0.0]
    o1 = [     Hdh01[0][3],      Hdh01[1][3],      Hdh01[2][3]]
    o2 = [    Hdh012[0][3],     Hdh012[1][3],     Hdh012[2][3]]
    o3 = [   Hdh0123[0][3],    Hdh0123[1][3],    Hdh0123[2][3]]
    o4 = [  Hdh01234[0][3],   Hdh01234[1][3],   Hdh01234[2][3]]
    o5 = [ Hdh012345[0][3],  Hdh012345[1][3],  Hdh012345[2][3]]
    o6 = [Hdh0123456[0][3], Hdh0123456[1][3], Hdh0123456[2][3]]
    # --------------------------------------------------------------------------

    # ax.plot([n-1番目のlinkの原点座標(x方向), n番目のlinkの原点座標（x方向）], [n-1番目のlinkの原点座標(y方向), n番目のlinkの原点座標（y方向）], [n-1番目のlinkの原点座標(z方向), n番目のlinkの原点座標（z方向）])
    ax.plot([o0[0], o1[0]], [o0[1], o1[1]], [o0[2], o1[2]], "o-", color="tomato", ms=4, mew=0.5) # link1
    ax.plot([o1[0], o2[0]], [o1[1], o2[1]], [o1[2], o2[2]], "o-", color="lightgreen", ms=4, mew=0.5) # link2
    ax.plot([o2[0], o3[0]], [o2[1], o3[1]], [o2[2], o3[2]], "o-", color="cyan", ms=4, mew=0.5) # link3
    ax.plot([o3[0], o4[0]], [o3[1], o4[1]], [o3[2], o4[2]], "o-", color="purple", ms=4, mew=0.5) # link4
    ax.plot([o4[0], o5[0]], [o4[1], o5[1]], [o4[2], o5[2]], "o-", color="gold", ms=4, mew=0.5) # link5
    ax.plot([o5[0], o6[0]], [o5[1], o6[1]], [o5[2], o6[2]], "o-", color="mediumslateblue", ms=4, mew=0.5) # link6
    
    # draw_link_coordinate(ax, linkNまでの同時変換行列)
    draw_link_coordinate(ax,      Hdh01)
    draw_link_coordinate(ax,     Hdh012)
    draw_link_coordinate(ax,    Hdh0123)
    draw_link_coordinate(ax,   Hdh01234)
    draw_link_coordinate(ax,  Hdh012345)
    draw_link_coordinate(ax, Hdh0123456)

    ax.set_xlim(-6, 6)
    ax.set_ylim(-6, 6)
    ax.set_zlim(-6, 6)

    # 軸ラベル
    ax.set_xlabel('x')
    ax.set_ylabel('y')
    ax.set_zlabel('z')
    ax.view_init(val1=val1, val2=val2, val3=val3, val4=val4, val5=val5, val6=val6)

    # 表示
    plt.show()

def main():
    """
    # 各リンク間における「DH法による同時変換行列」を定義 --------------------------
    theta1 = np.radians(30); d1 = 0; alpha1 = -np.pi/2; a1 = 0
    Hdh01 = Hdh(theta1, d1, alpha1, a1) # DH法による同時変換行列 0->1

    theta2 = np.radians(0); d2 = 0; alpha2 =0; a2 = 4
    Hdh12 = Hdh(theta2, d2, alpha2, a2) # DH法による同時変換行列 1->2

    theta3 = np.radians(0); d3 = 0; alpha3 = np.pi/2; a3 = 0
    Hdh23 = Hdh(theta3, d3, alpha3, a3) # DH法による同時変換行列 2->3

    theta4 = np.radians(0); d4 = 4; alpha4 = -np.pi/2; a4 = 0
    Hdh34 = Hdh(theta4, d4, alpha4, a4) # DH法による同時変換行列 3->4

    theta5 = np.radians(0); d5 = 0; alpha5 = np.pi/2; a5 = 0
    Hdh45 = Hdh(theta5, d5, alpha5, a5) # DH法による同時変換行列 4->5

    theta6 = np.radians(0); d6 = 2; alpha6 = 0; a6 = 0
    Hdh56 = Hdh(theta6, d6, alpha6, a6) # DH法による同時変換行列 5->6
    # --------------------------------------------------------------------------

    # 絶対座標系からn番目のlinkまでの同時変換行列を定義 -------------------------------
    Hdh012     = Hdh01     @ Hdh12 # 絶対座標系 -> link2座標系 (= 絶対座標系 -> link1座標系 -> link2座標系)
    Hdh0123    = Hdh012    @ Hdh23 # 絶対座標系 -> link3座標系 (= 絶対座標系 -> link1座標系 -> link2座標系 -> link3座標系)
    Hdh01234   = Hdh0123   @ Hdh34 # 絶対座標系 -> link4座標系 (= 絶対座標系 -> link1座標系 -> link2座標系 -> link3座標系 -> link4座標系)
    Hdh012345  = Hdh01234  @ Hdh45 # 絶対座標系 -> link5座標系 (= 絶対座標系 -> link1座標系 -> link2座標系 -> link3座標系 -> link4座標系 -> リンク5座標系)
    Hdh0123456 = Hdh012345 @ Hdh56 # 絶対座標系 -> link6座標系 (= 絶対座標系 -> link1座標系 -> link2座標系 -> link3座標系 -> link4座標系 -> リンク5座標系 -> リンク6座標系)
    # --------------------------------------------------------------------------

    # 各linkの原点座標 -----------------------------------------------------------
    o0 = [             0.0,              0.0,              0.0]
    o1 = [     Hdh01[0][3],      Hdh01[1][3],      Hdh01[2][3]]
    o2 = [    Hdh012[0][3],     Hdh012[1][3],     Hdh012[2][3]]
    o3 = [   Hdh0123[0][3],    Hdh0123[1][3],    Hdh0123[2][3]]
    o4 = [  Hdh01234[0][3],   Hdh01234[1][3],   Hdh01234[2][3]]
    o5 = [ Hdh012345[0][3],  Hdh012345[1][3],  Hdh012345[2][3]]
    o6 = [Hdh0123456[0][3], Hdh0123456[1][3], Hdh0123456[2][3]]
    # --------------------------------------------------------------------------

    # 以下，描画関連 --------------------------------------------------------------
    # 3Dでプロット
    fig = plt.figure()
    ax = Axes3D(fig)
    
    # ax.plot([n-1番目のlinkの原点座標(x方向), n番目のlinkの原点座標（x方向）], [n-1番目のlinkの原点座標(y方向), n番目のlinkの原点座標（y方向）], [n-1番目のlinkの原点座標(z方向), n番目のlinkの原点座標（z方向）])
    ax.plot([o0[0], o1[0]], [o0[1], o1[1]], [o0[2], o1[2]], "o-", color="tomato", ms=4, mew=0.5) # link1
    ax.plot([o1[0], o2[0]], [o1[1], o2[1]], [o1[2], o2[2]], "o-", color="lightgreen", ms=4, mew=0.5) # link2
    ax.plot([o2[0], o3[0]], [o2[1], o3[1]], [o2[2], o3[2]], "o-", color="cyan", ms=4, mew=0.5) # link3
    ax.plot([o3[0], o4[0]], [o3[1], o4[1]], [o3[2], o4[2]], "o-", color="purple", ms=4, mew=0.5) # link4
    ax.plot([o4[0], o5[0]], [o4[1], o5[1]], [o4[2], o5[2]], "o-", color="gold", ms=4, mew=0.5) # link5
    ax.plot([o5[0], o6[0]], [o5[1], o6[1]], [o5[2], o6[2]], "o-", color="mediumslateblue", ms=4, mew=0.5) # link6
    
    # draw_link_coordinate(ax, linkNまでの同時変換行列)
    draw_link_coordinate(ax,      Hdh01)
    draw_link_coordinate(ax,     Hdh012)
    draw_link_coordinate(ax,    Hdh0123)
    draw_link_coordinate(ax,   Hdh01234)
    draw_link_coordinate(ax,  Hdh012345)
    draw_link_coordinate(ax, Hdh0123456)

    ax.set_xlim(-6, 6)
    ax.set_ylim(-6, 6)
    ax.set_zlim(-6, 6)

    # 軸ラベル
    ax.set_xlabel('x')
    ax.set_ylabel('y')
    ax.set_zlabel('z')

    # 表示
    plt.show()
    """

    interact(f, val1=(0.0, 180.0, 1.0),val2=(0.0, 180.0, 1.0),val3=(0.0, 180.0, 1.0),val4=(0.0, 180.0, 1.0),val5=(0.0, 180.0, 1.0),val6=(0.0, 180.0, 1.0))

if __name__ == '__main__':
    main()