{
 "cells": [
  {
   "cell_type": "code",
   "execution_count": 2,
   "metadata": {},
   "outputs": [],
   "source": [
    "import numpy as np\n",
    "\n",
    "#  -------- 各変数の設定（ここの値を変更）-----------------\n",
    "link1_length = 2.0 # link1の長さ\n",
    "theta1 = 30 # link1の関節角度\n",
    "\n",
    "link2_length = 2.0 # link2の長さ\n",
    "theta2 = 30 # link2の関節角度\n",
    "#  ---------------------------------------------------\n",
    "\n",
    "# 各角度をdegree -> radianに変換\n",
    "theta1 = np.radians(theta1)\n",
    "theta2 = np.radians(theta2)\n",
    "\n",
    "# ------------------三角関数による順運動学 ---------------------\n",
    "# link1の根本から見た時の，link1の先端位置\n",
    "x1 = link1_length*np.cos(theta1)\n",
    "y1 = link1_length*np.sin(theta1)\n",
    "\n",
    "# link2の根本から見た時の，link2の先端位置（=エンドエフェクタの位置）\n",
    "x2 = link2_length*np.cos(theta2)\n",
    "y2 = link2_length*np.sin(theta2)\n",
    "\n",
    "# link1の根本（原点座標）から見た時の，エンドエフェクタの位置\n",
    "xe = x1 + x2\n",
    "ye = y1 + y2\n",
    "# -----------------------------------------------------------\n",
    "\n",
    "# ------ ここからは描画関連（順運動学と直接的に関係はなし） ------------\n",
    "\n",
    "\n",
    "\n"
   ]
  },
  {
   "cell_type": "code",
   "execution_count": null,
   "metadata": {},
   "outputs": [],
   "source": []
  }
 ],
 "metadata": {
  "kernelspec": {
   "display_name": "Python 3",
   "language": "python",
   "name": "python3"
  },
  "language_info": {
   "codemirror_mode": {
    "name": "ipython",
    "version": 3
   },
   "file_extension": ".py",
   "mimetype": "text/x-python",
   "name": "python",
   "nbconvert_exporter": "python",
   "pygments_lexer": "ipython3",
   "version": "3.10.10"
  },
  "orig_nbformat": 4
 },
 "nbformat": 4,
 "nbformat_minor": 2
}
