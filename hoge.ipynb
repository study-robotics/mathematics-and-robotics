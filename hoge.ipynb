{
 "cells": [
  {
   "cell_type": "code",
   "execution_count": null,
   "metadata": {},
   "outputs": [],
   "source": [
    "import numpy as np\n",
    "import matplotlib.pyplot as plt\n",
    "%matplotlib inline\n",
    "\n",
    "fig, ax = plt.subplots()\n",
    "x = np.arange(21)\n",
    "y = np.random.rand(21)\n",
    "n = len(x)\n",
    "ax.set_xlim([0, 20])\n",
    "ax.set_ylim([0, 1])\n",
    "ind = 3    # カーソル位置のインデックス\n",
    "cur_v = ax.axvline(x[ind], color='k', linestyle='--', linewidth=0.5)\n",
    "cur_h = ax.axhline(y[ind], color='k', linestyle='--', linewidth=0.5)\n",
    "ax.plot(x, y, \"o-\",picker=15)\n",
    "cur_point, = ax.plot(x[ind], y[ind], color='k', markersize=10, marker='o')\n",
    "ax.set_title('index: {}, x = {}, y = {}'.format(\n",
    "                                ind, round(x[ind], 4), round(y[ind], 4)))\n",
    "\n",
    "\n",
    "def on_key(event):\n",
    "    global ind\n",
    "    if event.key == 'right':\n",
    "        move = 1\n",
    "    elif event.key == 'left':\n",
    "        move = -1\n",
    "    else:\n",
    "        return\n",
    "\n",
    "    # インデックスの更新\n",
    "    ind += move\n",
    "    ind %= n  # グラフの端に行くと戻るようにする\n",
    "\n",
    "    # カーソルとタイトルの更新\n",
    "    cur_v.set_xdata(x[ind])\n",
    "    cur_h.set_ydata(y[ind])\n",
    "    cur_point.set_data(x[ind], y[ind])\n",
    "    ax.set_title('index: {}, x = {}, y = {}'.format(\n",
    "                                    ind, round(x[ind], 4), round(y[ind], 4)))\n",
    "    plt.draw()\n",
    "\n",
    "fig.canvas.mpl_connect('key_press_event', on_key)\n",
    "plt.show()"
   ]
  },
  {
   "cell_type": "code",
   "execution_count": null,
   "metadata": {},
   "outputs": [],
   "source": [
    "import sys\n",
    "import numpy as np\n",
    "import matplotlib.pyplot as plt\n",
    "%matplotlib inline\n",
    "\n",
    "def press(event):\n",
    "    print('press', event.key)\n",
    "    sys.stdout.flush()\n",
    "    if event.key == 'x':\n",
    "        visible = xl.get_visible()\n",
    "        xl.set_visible(not visible)\n",
    "        fig.canvas.draw()\n",
    "\n",
    "# Fixing random state for reproducibility\n",
    "np.random.seed(19680801)\n",
    "\n",
    "\n",
    "fig, ax = plt.subplots()\n",
    "\n",
    "fig.canvas.mpl_connect('key_press_event', press)\n",
    "\n",
    "ax.plot(np.random.rand(12), np.random.rand(12), 'go')\n",
    "xl = ax.set_xlabel('easy come, easy go')\n",
    "ax.set_title('Press a key')\n",
    "plt.show()"
   ]
  },
  {
   "cell_type": "code",
   "execution_count": 2,
   "metadata": {},
   "outputs": [],
   "source": [
    "import numpy as np\n",
    "import matplotlib.pyplot as plt\n",
    "from mpl_toolkits.mplot3d import Axes3D\n",
    "import ipywidgets\n",
    "%matplotlib inline"
   ]
  },
  {
   "cell_type": "code",
   "execution_count": 3,
   "metadata": {},
   "outputs": [
    {
     "data": {
      "application/vnd.jupyter.widget-view+json": {
       "model_id": "c7bf594a3d6e4ef3861c4b95647713eb",
       "version_major": 2,
       "version_minor": 0
      },
      "text/plain": [
       "HBox(children=(interactive(children=(FloatSlider(value=0.0, description='theta', max=180.0, min=-180.0, step=0…"
      ]
     },
     "metadata": {},
     "output_type": "display_data"
    }
   ],
   "source": [
    "import numpy as np\n",
    "import matplotlib.pyplot as plt\n",
    "from mpl_toolkits.mplot3d import Axes3D\n",
    "import ipywidgets\n",
    "from sympy.geometry import *\n",
    "import math\n",
    "%matplotlib inline\n",
    "\n",
    "\n",
    "class CircleRobot():\n",
    "    def __init__(self):\n",
    "        self.x = 1.0\n",
    "        self.y = 1.0\n",
    "        self.theta = 0.0\n",
    "\n",
    "circle_robot = CircleRobot()\n",
    "def hoge(theta):\n",
    "    # 描画し直す\n",
    "    \n",
    "    ax1 = plt.gca()\n",
    "    r = 0.1\n",
    "    circle = plt.Circle((circle_robot.x, circle_robot.y), r, ec='b', fill=False)\n",
    "    circle_robot.theta = theta\n",
    "\n",
    "    rad = math.radians(theta)\n",
    "    rx = r*math.cos(rad)\n",
    "    ry = r*math.sin(rad)\n",
    "    s0 = Segment(Point(circle_robot.x, circle_robot.y),Point(circle_robot.x+rx, circle_robot.y+ry))\n",
    "    segments = [s0]\n",
    "    # グラフ描画\n",
    "    for i,s in enumerate(segments) :\n",
    "        ax1.plot([s.p1.x, s.p2.x], [s.p1.y, s.p2.y], color='b')\n",
    "\n",
    "    ax1.add_artist(circle)\n",
    "    ax1.set_aspect(1)\n",
    "    ax1.set_xlim(0, 2.0)\n",
    "    ax1.set_ylim(0, 2.0)\n",
    "    plt.show()\n",
    "\n",
    "theta_slider = ipywidgets.interactive(hoge, theta=(-180.0, 180.0, 0.01))\n",
    "\n",
    "# リセットボタン\n",
    "front_button = ipywidgets.Button(description = \"front\")\n",
    "\n",
    "widgets = ipywidgets.HBox([theta_slider, front_button])\n",
    "# 姿勢のリセットボタン\n",
    "def front_on_click(button):\n",
    "    fig = plt.figure(figsize=(5,10))\n",
    "    ax1 = fig.add_subplot(2,1,1)\n",
    "    rad = math.radians(circle_robot.theta)\n",
    "    front_dis = 0.05\n",
    "    dx = front_dis*math.cos(rad)\n",
    "    dy = front_dis*math.sin(rad)\n",
    "\n",
    "    circle_robot.x = circle_robot.x + dx\n",
    "    circle_robot.y = circle_robot.y + dy\n",
    "    theta_slider.update()\n",
    "\n",
    "\n",
    "front_button.on_click(front_on_click)\n",
    "\n",
    "display(widgets)\n"
   ]
  },
  {
   "cell_type": "code",
   "execution_count": null,
   "metadata": {},
   "outputs": [],
   "source": []
  }
 ],
 "metadata": {
  "kernelspec": {
   "display_name": "Python 3.8.10 64-bit",
   "language": "python",
   "name": "python3"
  },
  "language_info": {
   "codemirror_mode": {
    "name": "ipython",
    "version": 3
   },
   "file_extension": ".py",
   "mimetype": "text/x-python",
   "name": "python",
   "nbconvert_exporter": "python",
   "pygments_lexer": "ipython3",
   "version": "3.8.10"
  },
  "orig_nbformat": 4,
  "vscode": {
   "interpreter": {
    "hash": "31f2aee4e71d21fbe5cf8b01ff0e069b9275f58929596ceb00d14d90e3e16cd6"
   }
  }
 },
 "nbformat": 4,
 "nbformat_minor": 2
}
